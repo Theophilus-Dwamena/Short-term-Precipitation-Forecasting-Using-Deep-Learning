{
  "nbformat": 4,
  "nbformat_minor": 0,
  "metadata": {
    "colab": {
      "provenance": [],
      "authorship_tag": "ABX9TyMYrjQzZg80QkFzFnpCwsp6",
      "include_colab_link": true
    },
    "kernelspec": {
      "name": "python3",
      "display_name": "Python 3"
    },
    "language_info": {
      "name": "python"
    }
  },
  "cells": [
    {
      "cell_type": "markdown",
      "metadata": {
        "id": "view-in-github",
        "colab_type": "text"
      },
      "source": [
        "<a href=\"https://colab.research.google.com/github/Theophilus-Dwamena/Short-term-Precipitation-Forecasting-Using-Deep-Learning/blob/main/LSTM_Nowcasting.ipynb\" target=\"_parent\"><img src=\"https://colab.research.google.com/assets/colab-badge.svg\" alt=\"Open In Colab\"/></a>"
      ]
    },
    {
      "cell_type": "code",
      "source": [
        "import numpy as np\n",
        "import tensorflow as tf\n",
        "from tensorflow.keras import layers, models\n",
        "import tensorflow_probability as tfp\n",
        "import matplotlib.pyplot as plt"
      ],
      "metadata": {
        "id": "3yOp-zHriQ0H"
      },
      "execution_count": 2,
      "outputs": []
    },
    {
      "cell_type": "code",
      "source": [
        "# Generate synthetic data\n",
        "def generate_synthetic_data(samples=1000, timesteps=6, height=64, width=64, channels=1):\n",
        "    X = np.random.rand(samples, timesteps, height, width, channels)\n",
        "    y = np.random.rand(samples, height, width, channels)\n",
        "    return X, y\n",
        "\n",
        "X_train, y_train = generate_synthetic_data()\n",
        "X_test, y_test = generate_synthetic_data(samples=200)"
      ],
      "metadata": {
        "id": "lTJVMytViRXk"
      },
      "execution_count": 3,
      "outputs": []
    },
    {
      "cell_type": "code",
      "source": [
        "# TISE-LSTM Model\n",
        "def build_tise_lstm():\n",
        "    inputs = layers.Input(shape=(6, 64, 64, 1))\n",
        "    x = layers.TimeDistributed(layers.Conv2D(32, (3, 3), activation='relu', padding='same'))(inputs)\n",
        "    x = layers.TimeDistributed(layers.MaxPooling2D((2, 2)))(x)\n",
        "    x = layers.Reshape((6, -1))(x)\n",
        "    x = layers.LSTM(64, return_sequences=False)(x)\n",
        "    x = layers.Dense(64, activation='relu')(x)\n",
        "    outputs = layers.Dense(64 * 64, activation='sigmoid')(x)\n",
        "    outputs = layers.Reshape((64, 64, 1))(outputs)\n",
        "    return models.Model(inputs, outputs)"
      ],
      "metadata": {
        "id": "zA2ceHLkiUvG"
      },
      "execution_count": 4,
      "outputs": []
    },
    {
      "cell_type": "code",
      "source": [
        "# ConvLSTM Model\n",
        "def build_convlstm():\n",
        "    inputs = layers.Input(shape=(6, 64, 64, 1))\n",
        "    x = layers.ConvLSTM2D(64, (3, 3), activation='relu', padding='same', return_sequences=False)(inputs)\n",
        "    x = layers.Conv2D(64, (3, 3), activation='relu', padding='same')(x)\n",
        "    outputs = layers.Conv2D(1, (1, 1), activation='sigmoid')(x)\n",
        "    return models.Model(inputs, outputs)"
      ],
      "metadata": {
        "id": "vhTyWTF3iXUi"
      },
      "execution_count": 5,
      "outputs": []
    },
    {
      "cell_type": "code",
      "source": [
        "# Compile and train models\n",
        "models_dict = {\n",
        "    'TISE-LSTM': build_tise_lstm(),\n",
        "    'ConvLSTM': build_convlstm(),\n",
        "}\n",
        "\n",
        "for name, model in models_dict.items():\n",
        "    print(f'Training {name}...')\n",
        "    model.compile(optimizer='adam', loss='mse')\n",
        "    model.fit(X_train, y_train, epochs=5, batch_size=16, validation_data=(X_test, y_test))"
      ],
      "metadata": {
        "id": "msarHz-04pba"
      },
      "execution_count": null,
      "outputs": []
    },
    {
      "cell_type": "code",
      "source": [
        "from skimage.metrics import structural_similarity as ssim\n",
        "\n",
        "# Evaluate models numerically\n",
        "def evaluate_model(model, model_name):\n",
        "    predictions = model.predict(X_test)\n",
        "\n",
        "    mse_score = np.mean((predictions - y_test) ** 2)\n",
        "    ssim_score = np.mean([ssim(y_test[i, :, :, 0], predictions[i, :, :, 0], data_range=1.0) for i in range(len(y_test))])\n",
        "\n",
        "    print(f\"{model_name} - MSE: {mse_score:.6f}, SSIM: {ssim_score:.4f}\")\n",
        "\n",
        "for name, model in models_dict.items():\n",
        "    evaluate_model(model, name)"
      ],
      "metadata": {
        "id": "E1lHEx0T4swd"
      },
      "execution_count": null,
      "outputs": []
    },
    {
      "cell_type": "code",
      "source": [
        "# Plot predictions vs real data\n",
        "def plot_predictions(model, model_name):\n",
        "    idx = np.random.randint(0, X_test.shape[0])\n",
        "    prediction = model.predict(np.expand_dims(X_test[idx], axis=0))[0, :, :, 0]\n",
        "    real = y_test[idx, :, :, 0]\n",
        "\n",
        "    plt.figure(figsize=(10, 5))\n",
        "    plt.subplot(1, 2, 1)\n",
        "    plt.imshow(real, cmap='gray')\n",
        "    plt.title(f'Real Synthetic Data - {model_name}')\n",
        "    plt.subplot(1, 2, 2)\n",
        "    plt.imshow(prediction, cmap='gray')\n",
        "    plt.title(f'Predicted Data - {model_name}')\n",
        "    plt.show()\n",
        "\n",
        "for name, model in models_dict.items():\n",
        "    plot_predictions(model, name)"
      ],
      "metadata": {
        "id": "EXEHmjiV4wz-"
      },
      "execution_count": null,
      "outputs": []
    }
  ]
}